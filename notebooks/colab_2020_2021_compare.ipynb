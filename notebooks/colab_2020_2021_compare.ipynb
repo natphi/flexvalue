{
 "cells": [
  {
   "cell_type": "markdown",
   "id": "51178c15",
   "metadata": {},
   "source": [
    "**DISCLAIMER: This is currently a work in progress. We will notify users when testing has completed.**"
   ]
  },
  {
   "cell_type": "code",
   "execution_count": null,
   "id": "557fa171",
   "metadata": {},
   "outputs": [],
   "source": [
    "pip install flexvalue --upgrade"
   ]
  },
  {
   "cell_type": "code",
   "execution_count": null,
   "id": "f6189006",
   "metadata": {},
   "outputs": [],
   "source": [
    "import os\n",
    "\n",
    "try:\n",
    "    from google.colab import files\n",
    "    os.environ['DATABASE_LOCATION'] = '.'\n",
    "except:\n",
    "    print(\"This is not being run in a colab, so the download functions will not work.\")\n",
    "    os.environ['DATABASE_LOCATION'] = '../'\n",
    "    pass\n",
    "import pandas as pd\n",
    "from io import BytesIO\n",
    "\n",
    "import sqlite3"
   ]
  },
  {
   "cell_type": "code",
   "execution_count": null,
   "id": "52759335",
   "metadata": {},
   "outputs": [],
   "source": [
    "!flexvalue download-avoided-costs-data-db --year 2020"
   ]
  },
  {
   "cell_type": "code",
   "execution_count": null,
   "id": "7e92355f",
   "metadata": {},
   "outputs": [],
   "source": [
    "!flexvalue download-avoided-costs-data-db --year 2021 --url-prefix https://storage.googleapis.com/flexvalue-public-resources/db/v0/"
   ]
  },
  {
   "cell_type": "code",
   "execution_count": null,
   "id": "9b3f9811",
   "metadata": {},
   "outputs": [],
   "source": [
    "db_filepath_2020 = os.path.join(os.environ['DATABASE_LOCATION'], \"2020.db\")\n",
    "con_2020 = sqlite3.connect(db_filepath_2020)\n",
    "\n",
    "db_filepath_2021 = os.path.join(os.environ['DATABASE_LOCATION'], \"2021.db\")\n",
    "con_2021 = sqlite3.connect(db_filepath_2021)"
   ]
  },
  {
   "cell_type": "code",
   "execution_count": null,
   "id": "56c062de",
   "metadata": {},
   "outputs": [],
   "source": [
    "# Running with the ids that are associated with DEER load shapes\n",
    "from flexvalue.examples import get_example_user_inputs_deer\n",
    "from flexvalue import FlexValueRun"
   ]
  },
  {
   "cell_type": "code",
   "execution_count": null,
   "id": "c3bf1837",
   "metadata": {},
   "outputs": [],
   "source": [
    "user_inputs_deer = get_example_user_inputs_deer(database_year='2020')"
   ]
  },
  {
   "cell_type": "code",
   "execution_count": null,
   "id": "a8f04ced",
   "metadata": {},
   "outputs": [],
   "source": [
    "flx_run_2020 = FlexValueRun(database_year='2020')\n",
    "outputs_table_deer_2020, outputs_table_totals_deer_2020, electric_benefits_deer_2020, gas_benefits_deer_2020 = flx_run_2020.get_results(user_inputs=user_inputs_deer)\n",
    "outputs_table_deer_2020"
   ]
  },
  {
   "cell_type": "code",
   "execution_count": null,
   "id": "2b26dd73",
   "metadata": {},
   "outputs": [],
   "source": [
    "flx_run_2021 = FlexValueRun(database_year='2021')\n",
    "outputs_table_deer_2021, outputs_table_totals_deer_2021, electric_benefits_deer_2021, gas_benefits_deer_2021 = flx_run_2021.get_results(user_inputs=user_inputs_deer)\n",
    "outputs_table_deer_2021"
   ]
  },
  {
   "cell_type": "code",
   "execution_count": null,
   "id": "01a270fa",
   "metadata": {},
   "outputs": [],
   "source": [
    "outputs_table_totals_deer_2020.round(2)"
   ]
  },
  {
   "cell_type": "code",
   "execution_count": null,
   "id": "4ce5ba5c",
   "metadata": {},
   "outputs": [],
   "source": [
    "outputs_table_totals_deer_2021.round(2)"
   ]
  },
  {
   "cell_type": "code",
   "execution_count": null,
   "id": "1bb6110d",
   "metadata": {},
   "outputs": [],
   "source": []
  }
 ],
 "metadata": {
  "kernelspec": {
   "display_name": "Python 3",
   "language": "python",
   "name": "python3"
  },
  "language_info": {
   "codemirror_mode": {
    "name": "ipython",
    "version": 3
   },
   "file_extension": ".py",
   "mimetype": "text/x-python",
   "name": "python",
   "nbconvert_exporter": "python",
   "pygments_lexer": "ipython3",
   "version": "3.7.4"
  }
 },
 "nbformat": 4,
 "nbformat_minor": 5
}
