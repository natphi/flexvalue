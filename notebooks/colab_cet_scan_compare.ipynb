{
 "cells": [
  {
   "cell_type": "code",
   "execution_count": null,
   "id": "7a509cdd",
   "metadata": {},
   "outputs": [],
   "source": [
    "pip install flexvalue --upgrade"
   ]
  },
  {
   "cell_type": "code",
   "execution_count": null,
   "id": "6e91fd3a",
   "metadata": {},
   "outputs": [],
   "source": [
    "!flexvalue download-avoided-costs-data-db --year 2020"
   ]
  },
  {
   "cell_type": "code",
   "execution_count": 4,
   "id": "25df42bb",
   "metadata": {},
   "outputs": [],
   "source": [
    "try:\n",
    "    # only works from colab\n",
    "    from google.colab import files\n",
    "except:\n",
    "    if not os.environ.get('DATABASE_LOCATION_ORIG'):\n",
    "        os.environ[\"DATABASE_LOCATION_ORIG\"] = os.environ.get('DATABASE_LOCATION', '.')\n",
    "    os.environ[\"DATABASE_LOCATION\"] = '../' + os.environ['DATABASE_LOCATION_ORIG'] \n",
    "import pandas as pd\n",
    "import os"
   ]
  },
  {
   "cell_type": "code",
   "execution_count": 5,
   "id": "6eabe5cf",
   "metadata": {},
   "outputs": [
    {
     "name": "stdout",
     "output_type": "stream",
     "text": [
      "Res/DEER:HVAC_Chillers Pairing Not Allowed in CET. Switching to Non_Res\n",
      "Your CET input file is at cet_scan/Test_Run/cet/Test_Run.zip\n",
      "Your FLEXvalue input file is at cet_scan/Test_Run/flexvalue/Test_Run_flexvalue_user_inputs.csv\n"
     ]
    },
    {
     "data": {
      "text/html": [
       "<div>\n",
       "<style scoped>\n",
       "    .dataframe tbody tr th:only-of-type {\n",
       "        vertical-align: middle;\n",
       "    }\n",
       "\n",
       "    .dataframe tbody tr th {\n",
       "        vertical-align: top;\n",
       "    }\n",
       "\n",
       "    .dataframe thead th {\n",
       "        text-align: right;\n",
       "    }\n",
       "</style>\n",
       "<table border=\"1\" class=\"dataframe\">\n",
       "  <thead>\n",
       "    <tr style=\"text-align: right;\">\n",
       "      <th></th>\n",
       "      <th>start_year</th>\n",
       "      <th>start_quarter</th>\n",
       "      <th>utility</th>\n",
       "      <th>climate_zone</th>\n",
       "      <th>mwh_savings</th>\n",
       "      <th>load_shape</th>\n",
       "      <th>therms_savings</th>\n",
       "      <th>therms_profile</th>\n",
       "      <th>units</th>\n",
       "      <th>eul</th>\n",
       "      <th>ntg</th>\n",
       "      <th>discount_rate</th>\n",
       "      <th>admin</th>\n",
       "      <th>measure</th>\n",
       "      <th>incentive</th>\n",
       "    </tr>\n",
       "    <tr>\n",
       "      <th>ID</th>\n",
       "      <th></th>\n",
       "      <th></th>\n",
       "      <th></th>\n",
       "      <th></th>\n",
       "      <th></th>\n",
       "      <th></th>\n",
       "      <th></th>\n",
       "      <th></th>\n",
       "      <th></th>\n",
       "      <th></th>\n",
       "      <th></th>\n",
       "      <th></th>\n",
       "      <th></th>\n",
       "      <th></th>\n",
       "      <th></th>\n",
       "    </tr>\n",
       "  </thead>\n",
       "  <tbody>\n",
       "    <tr>\n",
       "      <th>110</th>\n",
       "      <td>2021</td>\n",
       "      <td>1</td>\n",
       "      <td>PGE</td>\n",
       "      <td>12</td>\n",
       "      <td>5000</td>\n",
       "      <td>NONRES_HVAC_CHILLERS</td>\n",
       "      <td>200</td>\n",
       "      <td>Annual</td>\n",
       "      <td>1.0</td>\n",
       "      <td>7</td>\n",
       "      <td>0.95</td>\n",
       "      <td>0.0766</td>\n",
       "      <td>5000</td>\n",
       "      <td>220000</td>\n",
       "      <td>200000</td>\n",
       "    </tr>\n",
       "    <tr>\n",
       "      <th>111</th>\n",
       "      <td>2021</td>\n",
       "      <td>1</td>\n",
       "      <td>PGE</td>\n",
       "      <td>3A</td>\n",
       "      <td>10</td>\n",
       "      <td>NONRES_HVAC_CHILLERS</td>\n",
       "      <td>3</td>\n",
       "      <td>Winter</td>\n",
       "      <td>1.0</td>\n",
       "      <td>1</td>\n",
       "      <td>0.40</td>\n",
       "      <td>0.0766</td>\n",
       "      <td>165</td>\n",
       "      <td>310</td>\n",
       "      <td>66</td>\n",
       "    </tr>\n",
       "    <tr>\n",
       "      <th>112</th>\n",
       "      <td>2021</td>\n",
       "      <td>1</td>\n",
       "      <td>PGE</td>\n",
       "      <td>4</td>\n",
       "      <td>20</td>\n",
       "      <td>RES_INDOOR_CFL_LTG</td>\n",
       "      <td>1140</td>\n",
       "      <td>Summer</td>\n",
       "      <td>1.0</td>\n",
       "      <td>1</td>\n",
       "      <td>0.90</td>\n",
       "      <td>0.0766</td>\n",
       "      <td>299</td>\n",
       "      <td>4044</td>\n",
       "      <td>800</td>\n",
       "    </tr>\n",
       "  </tbody>\n",
       "</table>\n",
       "</div>"
      ],
      "text/plain": [
       "    start_year  start_quarter utility climate_zone  mwh_savings  \\\n",
       "ID                                                                \n",
       "110       2021              1     PGE           12         5000   \n",
       "111       2021              1     PGE           3A           10   \n",
       "112       2021              1     PGE            4           20   \n",
       "\n",
       "               load_shape  therms_savings therms_profile  units  eul   ntg  \\\n",
       "ID                                                                           \n",
       "110  NONRES_HVAC_CHILLERS             200         Annual    1.0    7  0.95   \n",
       "111  NONRES_HVAC_CHILLERS               3         Winter    1.0    1  0.40   \n",
       "112    RES_INDOOR_CFL_LTG            1140         Summer    1.0    1  0.90   \n",
       "\n",
       "     discount_rate  admin  measure  incentive  \n",
       "ID                                             \n",
       "110         0.0766   5000   220000     200000  \n",
       "111         0.0766    165      310         66  \n",
       "112         0.0766    299     4044        800  "
      ]
     },
     "execution_count": 5,
     "metadata": {},
     "output_type": "execute_result"
    }
   ],
   "source": [
    "from flexvalue.cet_flexvalue_compare import CET_Scan\n",
    "from pathlib import Path\n",
    "\n",
    "acc_version = '2020'\n",
    "directory = 'cet_scan'\n",
    "scan_name = 'Test_Run'\n",
    "cet_scan = CET_Scan(\n",
    "    directory=directory,\n",
    "    scan_name=scan_name,\n",
    "    program_year=\"2021\",\n",
    "    acc_version=acc_version,\n",
    "    program_admin=\"PGE\",\n",
    "    climate_zone=[\"12\", \"3A\", \"4\"],\n",
    "    mwh=[5000, 10, 2],\n",
    "    therms=[200, 3, 114],\n",
    "    units=[1, 1, 10],\n",
    "    ntg=[0.95, 0.4, 0.9],\n",
    "    eul=[7, 1, 1],\n",
    "    sector=[\"NonRes\", \"Res\", \"Res\"],\n",
    "    deer_load_shape=[\n",
    "        \"DEER:HVAC_Chillers\",\n",
    "        \"DEER:HVAC_Chillers\",\n",
    "        \"DEER:Indoor_CFL_Ltg\",\n",
    "    ],\n",
    "    gas_sector=[\"Residential\", \"Residential\", \"Residential\"],\n",
    "    gas_savings_profile=[\"Annual\", \"Winter Only\", \"Summer Only\"],\n",
    "    admin_cost=[5000, 165, 299],\n",
    "    measure_cost=[220000, 310, 4044],\n",
    "    incentive=[200000, 66, 800],\n",
    ")\n",
    "\n",
    "user_inputs = cet_scan.generate_cet_input_file()\n",
    "user_inputs"
   ]
  },
  {
   "cell_type": "code",
   "execution_count": null,
   "id": "6d03bd7d",
   "metadata": {},
   "outputs": [],
   "source": [
    "# This step downloads the CET zip file that you can then upload to CEDARS\n",
    "cet_zip_filepath = os.path.join(cet_scan.cet_path, f'{scan_name}.zip')\n",
    "files.download(cet_zip_filepath)\n",
    "print(\"Make sure to set the CET Run Parameters with the following:\\n- First year: 2021\\n- Avoided Costs: 2021\\n- Market Effects: 0%\")\n",
    "print('https://cedars.sound-data.com/accounts/login/?next=/cet_ui/')"
   ]
  },
  {
   "cell_type": "code",
   "execution_count": null,
   "id": "eb4db492",
   "metadata": {},
   "outputs": [],
   "source": [
    "from flexvalue import FlexValueRun\n",
    "flx_run = FlexValueRun(database_year=acc_version)\n",
    "outputs_table, outputs_table_totals, electric_benefits, gas_benefits = flx_run.get_results(user_inputs=user_inputs)"
   ]
  },
  {
   "cell_type": "code",
   "execution_count": null,
   "id": "d5b27ad2",
   "metadata": {},
   "outputs": [],
   "source": [
    "display(outputs_table)"
   ]
  },
  {
   "cell_type": "code",
   "execution_count": null,
   "id": "6a9ccdc0",
   "metadata": {},
   "outputs": [],
   "source": [
    "# Run this cell if you want to download the FLEXvalue output.\n",
    "outputs_filename = os.path.join(cet_scan.flexvalue_path, 'flexvalue_outputs.csv')\n",
    "outputs_table.to_csv(outputs_filename)\n",
    "files.download(outputs_filename)"
   ]
  },
  {
   "cell_type": "code",
   "execution_count": null,
   "id": "5cdee557",
   "metadata": {},
   "outputs": [],
   "source": [
    "# Upload the cet output file\n",
    "cet_output_dict = files.upload()\n",
    "if len(cet_output_dict) == 1:\n",
    "    cet_output_filepath = list(cet_output_dict.keys())[0]\n",
    "else:\n",
    "    print(\"Must select exactly one file\")"
   ]
  },
  {
   "cell_type": "code",
   "execution_count": null,
   "id": "f11302dd",
   "metadata": {},
   "outputs": [],
   "source": [
    "cet_cleaned_results = cet_scan.parse_cet_output(cet_output_filepath)\n",
    "compared_df = cet_scan.compare_cet_to_flexvalue(cet_cleaned_results, outputs_table)\n",
    "compared_df"
   ]
  },
  {
   "cell_type": "code",
   "execution_count": null,
   "id": "41c642f8",
   "metadata": {},
   "outputs": [],
   "source": [
    "from flexvalue.plots import plot_results\n",
    "plot_results(outputs_table_totals, electric_benefits, gas_benefits)"
   ]
  }
 ],
 "metadata": {
  "kernelspec": {
   "display_name": "Python 3",
   "language": "python",
   "name": "python3"
  },
  "language_info": {
   "codemirror_mode": {
    "name": "ipython",
    "version": 3
   },
   "file_extension": ".py",
   "mimetype": "text/x-python",
   "name": "python",
   "nbconvert_exporter": "python",
   "pygments_lexer": "ipython3",
   "version": "3.7.4"
  }
 },
 "nbformat": 4,
 "nbformat_minor": 5
}
