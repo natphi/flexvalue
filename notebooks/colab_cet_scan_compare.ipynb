{
 "cells": [
  {
   "cell_type": "code",
   "execution_count": null,
   "id": "1845aa8d",
   "metadata": {},
   "outputs": [],
   "source": [
    "pip install flexvalue"
   ]
  },
  {
   "cell_type": "code",
   "execution_count": null,
   "id": "3990a82f",
   "metadata": {},
   "outputs": [],
   "source": [
    "!flexvalue download-avoided-costs-data-db --year 2020"
   ]
  },
  {
   "cell_type": "code",
   "execution_count": 2,
   "id": "a6d19a99",
   "metadata": {},
   "outputs": [],
   "source": [
    "try:\n",
    "    from google.colab import files\n",
    "    # only works from colab\n",
    "except:\n",
    "    pass\n",
    "import pandas as pd\n",
    "import os\n",
    "from IPython.display import FileLink"
   ]
  },
  {
   "cell_type": "code",
   "execution_count": 2,
   "id": "ee74224c",
   "metadata": {},
   "outputs": [
    {
     "name": "stdout",
     "output_type": "stream",
     "text": [
      "Res/DEER:HVAC_Chillers Pairing Not Allowed in CET. Switching to Non_Res\n",
      "Your CET input file is at cet_scan/Test_Run3/cet/Test_Run3.zip\n",
      "Your FLEXvalue input file is at cet_scan/Test_Run3/flexvalue/Test_Run3_flexvalue_user_inputs.csv\n"
     ]
    }
   ],
   "source": [
    "from flexvalue.cet_flexvalue_compare import CET_Scan\n",
    "from pathlib import Path\n",
    "\n",
    "acc_version = '2020'\n",
    "directory = 'cet_scan'\n",
    "scan_name = 'Test_Run'\n",
    "cet_scan = CET_Scan(\n",
    "    directory=directory,\n",
    "    scan_name=scan_name,\n",
    "    program_year=\"2021\",\n",
    "    acc_version=acc_version,\n",
    "    program_admin=\"PGE\",\n",
    "    climate_zone=[\"12\", \"3A\", \"4\"],\n",
    "    mwh=[5000, 10, 2],\n",
    "    therms=[200, 3, 114],\n",
    "    units=[1, 1, 10],\n",
    "    ntg=[0.95, 0.4, 0.9],\n",
    "    eul=[7, 1, 1],\n",
    "    sector=[\"NonRes\", \"Res\", \"Res\"],\n",
    "    deer_load_shape=[\n",
    "        \"DEER:HVAC_Chillers\",\n",
    "        \"DEER:HVAC_Chillers\",\n",
    "        \"DEER:Indoor_CFL_Ltg\",\n",
    "    ],\n",
    "    gas_sector=[\"Residential\", \"Residential\", \"Residential\"],\n",
    "    gas_savings_profile=[\"Annual\", \"Winter Only\", \"Summer Only\"],\n",
    "    admin_cost=[5000, 165, 299],\n",
    "    measure_cost=[220000, 310, 4044],\n",
    "    incentive=[200000, 66, 800],\n",
    ")\n",
    "\n",
    "user_inputs = cet_scan.generate_cet_input_file()\n",
    "user_inputs"
   ]
  },
  {
   "cell_type": "code",
   "execution_count": 3,
   "id": "d28c48cf",
   "metadata": {},
   "outputs": [
    {
     "ename": "NameError",
     "evalue": "name 'cet_scan' is not defined",
     "output_type": "error",
     "traceback": [
      "\u001b[0;31m---------------------------------------------------------------------------\u001b[0m",
      "\u001b[0;31mNameError\u001b[0m                                 Traceback (most recent call last)",
      "\u001b[0;32m<ipython-input-3-21217a0607af>\u001b[0m in \u001b[0;36m<module>\u001b[0;34m\u001b[0m\n\u001b[1;32m      1\u001b[0m \u001b[0;31m# This step downloads the CET zip file that you can then upload to CEDARS\u001b[0m\u001b[0;34m\u001b[0m\u001b[0;34m\u001b[0m\u001b[0;34m\u001b[0m\u001b[0m\n\u001b[0;32m----> 2\u001b[0;31m \u001b[0mcet_zip_filepath\u001b[0m \u001b[0;34m=\u001b[0m \u001b[0mos\u001b[0m\u001b[0;34m.\u001b[0m\u001b[0mpath\u001b[0m\u001b[0;34m.\u001b[0m\u001b[0mjoin\u001b[0m\u001b[0;34m(\u001b[0m\u001b[0mcet_scan\u001b[0m\u001b[0;34m.\u001b[0m\u001b[0mcet_path\u001b[0m\u001b[0;34m,\u001b[0m \u001b[0;34mf'{scan_name}.zip'\u001b[0m\u001b[0;34m)\u001b[0m\u001b[0;34m\u001b[0m\u001b[0;34m\u001b[0m\u001b[0m\n\u001b[0m\u001b[1;32m      3\u001b[0m \u001b[0mfiles\u001b[0m\u001b[0;34m.\u001b[0m\u001b[0mdownload\u001b[0m\u001b[0;34m(\u001b[0m\u001b[0mcet_zip_filepath\u001b[0m\u001b[0;34m)\u001b[0m\u001b[0;34m\u001b[0m\u001b[0;34m\u001b[0m\u001b[0m\n\u001b[1;32m      4\u001b[0m \u001b[0mprint\u001b[0m\u001b[0;34m(\u001b[0m\u001b[0;34m'https://cedars.sound-data.com/accounts/login/?next=/cet_ui/'\u001b[0m\u001b[0;34m)\u001b[0m\u001b[0;34m\u001b[0m\u001b[0;34m\u001b[0m\u001b[0m\n",
      "\u001b[0;31mNameError\u001b[0m: name 'cet_scan' is not defined"
     ]
    }
   ],
   "source": [
    "# This step downloads the CET zip file that you can then upload to CEDARS\n",
    "cet_zip_filepath = os.path.join(cet_scan.cet_path, f'{scan_name}.zip')\n",
    "files.download(cet_zip_filepath)\n",
    "print(\"Make sure to set the CET Run Parameters with the following:\\n- First year: 2021\\n- Avoided Costs: 2021\\n- Market Effects: 0%\")\n",
    "print('https://cedars.sound-data.com/accounts/login/?next=/cet_ui/')"
   ]
  },
  {
   "cell_type": "code",
   "execution_count": null,
   "id": "9e7cb226",
   "metadata": {},
   "outputs": [],
   "source": [
    "from flexvalue import FlexValueRun\n",
    "flx_run = FlexValueRun(database_year=acc_version)\n",
    "outputs_table, outputs_table_totals, electric_benefits, gas_benefits = flx_run.get_results(user_inputs=user_inputs)"
   ]
  },
  {
   "cell_type": "code",
   "execution_count": null,
   "id": "4fc37fbc",
   "metadata": {},
   "outputs": [],
   "source": [
    "from IPython.display import FileLink\n",
    "# provide outputs table for download\n",
    "outputs_filename = os.path.join(cet_scan.flexvalue_path, 'flexvalue_outputs.csv')\n",
    "outputs_table.to_csv(outputs_filename)\n",
    "display(FileLink(outputs_filename))\n",
    "display(outputs_table)"
   ]
  },
  {
   "cell_type": "code",
   "execution_count": null,
   "id": "e6dc5481",
   "metadata": {},
   "outputs": [],
   "source": [
    "# Upload the cet output file\n",
    "cet_output_dict = files.upload()\n",
    "if len(cet_output_dict) == 1:\n",
    "    cet_output_filepath = list(cet_output_dict.keys())[0]\n",
    "else:\n",
    "    print(\"Must select exactly one file\")"
   ]
  },
  {
   "cell_type": "code",
   "execution_count": null,
   "id": "40370e9d",
   "metadata": {},
   "outputs": [],
   "source": [
    "cet_cleaned_results = cet_scan.parse_cet_output(cet_output_filepath)\n",
    "compared_df = cet_scan.compare_cet_to_flexvalue(cet_cleaned_results, outputs_table)\n",
    "compared_df"
   ]
  },
  {
   "cell_type": "code",
   "execution_count": null,
   "id": "7a8a3c56",
   "metadata": {},
   "outputs": [],
   "source": [
    "from flexvalue.plots import plot_results\n",
    "plot_results(outputs_table_totals, electric_benefits, gas_benefits)"
   ]
  }
 ],
 "metadata": {
  "kernelspec": {
   "display_name": "Python 3",
   "language": "python",
   "name": "python3"
  },
  "language_info": {
   "codemirror_mode": {
    "name": "ipython",
    "version": 3
   },
   "file_extension": ".py",
   "mimetype": "text/x-python",
   "name": "python",
   "nbconvert_exporter": "python",
   "pygments_lexer": "ipython3",
   "version": "3.7.4"
  }
 },
 "nbformat": 4,
 "nbformat_minor": 5
}
