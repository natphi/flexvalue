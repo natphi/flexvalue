{
 "cells": [
  {
   "cell_type": "code",
   "execution_count": null,
   "id": "53f415b8",
   "metadata": {},
   "outputs": [],
   "source": [
    "pip install flexvalue --upgrade"
   ]
  },
  {
   "cell_type": "code",
   "execution_count": null,
   "id": "2f399ece",
   "metadata": {},
   "outputs": [],
   "source": [
    "!flexvalue download-avoided-costs-data-db --year 2020"
   ]
  },
  {
   "cell_type": "code",
   "execution_count": null,
   "id": "581a7c6b",
   "metadata": {},
   "outputs": [],
   "source": [
    "from google.colab import files\n",
    "import pandas as pd\n",
    "from io import BytesIO"
   ]
  },
  {
   "cell_type": "code",
   "execution_count": 1,
   "id": "71cf211a",
   "metadata": {},
   "outputs": [
    {
     "name": "stdout",
     "output_type": "stream",
     "text": [
      "You must upload a user inputs file. To see an example, try out:\n",
      "https://storage.googleapis.com/flexvalue-public-resources/examples/example_user_inputs_metered.csv\n"
     ]
    }
   ],
   "source": [
    "print(\"You must upload a user inputs file. To see an example, try out:\")\n",
    "print(\"https://storage.googleapis.com/flexvalue-public-resources/examples/example_user_inputs_metered.csv\")"
   ]
  },
  {
   "cell_type": "code",
   "execution_count": null,
   "id": "69043982",
   "metadata": {},
   "outputs": [],
   "source": [
    "user_inputs_dict = files.upload()\n",
    "\n",
    "if len(user_inputs_dict)!=1:\n",
    "    print(\"Must select exactly one file\")\n",
    "else:\n",
    "    user_input_filename = list(user_inputs_dict.keys())[0]\n",
    "    user_inputs = pd.read_csv(user_input_filename)\n",
    "metered_load_shape_df = None"
   ]
  },
  {
   "cell_type": "code",
   "execution_count": null,
   "id": "0702f65c",
   "metadata": {},
   "outputs": [],
   "source": [
    "print(\"You can optionally upload a custom metered load shape. If using the previous example, also upload this file:\")\n",
    "print(\"https://storage.googleapis.com/flexvalue-public-resources/examples/example_metered_load_shapes.csv\")\n",
    "print(\"If you want to use a custom load shape, either don't run the following cell, or run it and hit 'Cancel Upload'\")"
   ]
  },
  {
   "cell_type": "code",
   "execution_count": null,
   "id": "5200df4c",
   "metadata": {},
   "outputs": [],
   "source": [
    "metered_ls_dict = files.upload()\n",
    "if len(metered_ls_dict)==0:\n",
    "    metered_load_shape_df = None\n",
    "elif len(metered_ls_dict) == 1:\n",
    "    metered_load_shape = list(metered_ls_dict.values())[0]\n",
    "    metered_load_shape_df = pd.read_csv(BytesIO(metered_load_shape)).set_index('hour_of_year')\n",
    "else:\n",
    "    print(\"Must select at most one file\")"
   ]
  },
  {
   "cell_type": "code",
   "execution_count": null,
   "id": "9755ebb9",
   "metadata": {},
   "outputs": [],
   "source": [
    "from flexvalue import FlexValueRun\n",
    "\n",
    "year = '2020'\n",
    "flx_run = FlexValueRun(database_year=year, metered_load_shape=metered_load_shape_df)\n",
    "\n",
    "outputs_table, outputs_table_totals, electric_benefits, gas_benefits = flx_run.get_results(user_inputs=user_inputs)"
   ]
  },
  {
   "cell_type": "code",
   "execution_count": null,
   "id": "9d407ae0",
   "metadata": {},
   "outputs": [],
   "source": [
    "# Run this cell if you want to download the FLEXvalue output.\n",
    "from pathlib import Path\n",
    "user_input_filename_no_ext = Path(user_input_filename).stem\n",
    "outputs_filename = f'{user_input_filename_no_ext}_outputs.csv'\n",
    "outputs_table.to_csv(outputs_filename)\n",
    "files.download(outputs_filename)"
   ]
  },
  {
   "cell_type": "code",
   "execution_count": null,
   "id": "e60e9dc1",
   "metadata": {},
   "outputs": [],
   "source": [
    "from flexvalue.plots import plot_results\n",
    "plot_results(outputs_table_totals, electric_benefits, gas_benefits)"
   ]
  }
 ],
 "metadata": {
  "kernelspec": {
   "display_name": "Python 3",
   "language": "python",
   "name": "python3"
  },
  "language_info": {
   "codemirror_mode": {
    "name": "ipython",
    "version": 3
   },
   "file_extension": ".py",
   "mimetype": "text/x-python",
   "name": "python",
   "nbconvert_exporter": "python",
   "pygments_lexer": "ipython3",
   "version": "3.7.4"
  }
 },
 "nbformat": 4,
 "nbformat_minor": 5
}
