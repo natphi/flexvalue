{
 "cells": [
  {
   "cell_type": "code",
   "execution_count": null,
   "id": "greenhouse-scope",
   "metadata": {},
   "outputs": [],
   "source": [
    "pip install flexvalue"
   ]
  },
  {
   "cell_type": "code",
   "execution_count": null,
   "id": "automatic-leadership",
   "metadata": {},
   "outputs": [],
   "source": [
    "!flexvalue download-avoided-costs-data-db --year 2020"
   ]
  },
  {
   "cell_type": "code",
   "execution_count": null,
   "id": "sixth-tyler",
   "metadata": {},
   "outputs": [],
   "source": [
    "import pandas as pd"
   ]
  },
  {
   "cell_type": "code",
   "execution_count": null,
   "id": "stunning-florida",
   "metadata": {},
   "outputs": [],
   "source": [
    "try:\n",
    "    from google.colab import files\n",
    "    colab = True\n",
    "except:\n",
    "    colab = False"
   ]
  },
  {
   "cell_type": "code",
   "execution_count": null,
   "id": "cordless-liberty",
   "metadata": {},
   "outputs": [],
   "source": [
    "if colab:\n",
    "\n",
    "    user_inputs_dict = files.upload()\n",
    "\n",
    "    if len(user_inputs_dict)!=1:\n",
    "        print(\"Must select exactly one file\")\n",
    "    else:\n",
    "        user_input_filename = list(user_inputs_dict.keys())[0]\n",
    "        user_inputs = pd.read_csv(user_input_filename)"
   ]
  },
  {
   "cell_type": "code",
   "execution_count": null,
   "id": "compressed-parameter",
   "metadata": {},
   "outputs": [],
   "source": [
    "if colab:\n",
    "    metered_ls_dict = files.upload()\n",
    "    if len(metered_ls_dict)==0:\n",
    "        metered_load_shape = None\n",
    "    elif len(metered_ls_dict) == 1:\n",
    "        metered_load_shape = list(metered_ls_dict.values())[0]\n",
    "    else:\n",
    "        print(\"Must select exactly one file\")"
   ]
  },
  {
   "cell_type": "code",
   "execution_count": null,
   "id": "applicable-ready",
   "metadata": {},
   "outputs": [],
   "source": [
    "from flexvalue import FlexValueRun\n",
    "\n",
    "year = '2020'\n",
    "flx_run = FlexValueRun(database_year=year, metered_load_shape=metered_load_shape)\n",
    "\n",
    "outputs_table, electric_benefits, gas_benefits = flx_run.get_results(user_inputs=user_inputs)\n",
    "\n",
    "from pathlib import Path\n",
    "user_input_filename_no_ext = Path(user_input_filename).stem\n",
    "outputs_filename = f'{user_input_filename_no_ext}_outputs.csv'\n",
    "outputs_table.to_csv(outputs_filename)"
   ]
  },
  {
   "cell_type": "code",
   "execution_count": null,
   "id": "simple-recipient",
   "metadata": {},
   "outputs": [],
   "source": [
    "from IPython.display import FileLink\n",
    "display(FileLink(outputs_filename))\n",
    "display(outputs_table)"
   ]
  },
  {
   "cell_type": "code",
   "execution_count": null,
   "id": "realistic-driving",
   "metadata": {},
   "outputs": [],
   "source": [
    "from flexvalue.plots import plot_results\n",
    "plot_results(outputs_table, electric_benefits, gas_benefits)"
   ]
  }
 ],
 "metadata": {
  "kernelspec": {
   "display_name": "Python 3",
   "language": "python",
   "name": "python3"
  },
  "language_info": {
   "codemirror_mode": {
    "name": "ipython",
    "version": 3
   },
   "file_extension": ".py",
   "mimetype": "text/x-python",
   "name": "python",
   "nbconvert_exporter": "python",
   "pygments_lexer": "ipython3",
   "version": "3.7.4"
  }
 },
 "nbformat": 4,
 "nbformat_minor": 5
}
