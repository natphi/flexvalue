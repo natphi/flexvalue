{
 "cells": [
  {
   "cell_type": "code",
   "execution_count": null,
   "id": "da37409b",
   "metadata": {},
   "outputs": [],
   "source": [
    "pip install flexvalue --upgrade"
   ]
  },
  {
   "cell_type": "code",
   "execution_count": null,
   "id": "02406b18",
   "metadata": {},
   "outputs": [],
   "source": [
    "!flexvalue download-avoided-costs-data-db --year 2020"
   ]
  },
  {
   "cell_type": "code",
   "execution_count": null,
   "id": "096c888e",
   "metadata": {},
   "outputs": [],
   "source": [
    "from google.colab import files\n",
    "import pandas as pd\n",
    "from io import BytesIO\n",
    "pd.set_option('display.max_rows', None)"
   ]
  },
  {
   "cell_type": "code",
   "execution_count": 1,
   "id": "e4f207e0",
   "metadata": {},
   "outputs": [
    {
     "name": "stdout",
     "output_type": "stream",
     "text": [
      "You must upload a user inputs file. To see an example, try out:\n",
      "https://storage.googleapis.com/flexvalue-public-resources/examples/example_user_inputs_metered.csv\n"
     ]
    }
   ],
   "source": [
    "print(\"You must upload a user inputs file. To see an example, try out:\")\n",
    "print(\"https://storage.googleapis.com/flexvalue-public-resources/examples/example_user_inputs_metered.csv\")"
   ]
  },
  {
   "cell_type": "code",
   "execution_count": null,
   "id": "d4eb47a7",
   "metadata": {},
   "outputs": [],
   "source": [
    "user_inputs_dict = files.upload()\n",
    "\n",
    "if len(user_inputs_dict)!=1:\n",
    "    print(\"Must select exactly one file\")\n",
    "else:\n",
    "    user_inputs = pd.read_csv(BytesIO(list(user_inputs_dict.values())[0]))\n",
    "    user_input_filename = list(user_inputs_dict.keys())[0]\n",
    "metered_load_shape_df = None"
   ]
  },
  {
   "cell_type": "code",
   "execution_count": null,
   "id": "682d7038",
   "metadata": {},
   "outputs": [],
   "source": [
    "user_inputs"
   ]
  },
  {
   "cell_type": "code",
   "execution_count": null,
   "id": "a36b5d5c",
   "metadata": {},
   "outputs": [],
   "source": [
    "print(\"You can optionally upload a custom metered load shape. If using the previous example, also upload this file:\")\n",
    "print(\"https://storage.googleapis.com/flexvalue-public-resources/examples/example_metered_load_shapes.csv\")\n",
    "print(\"If you want to use a custom load shape, either don't run the following cell, or run it and hit 'Cancel Upload'\")"
   ]
  },
  {
   "cell_type": "code",
   "execution_count": null,
   "id": "d74ca41b",
   "metadata": {},
   "outputs": [],
   "source": [
    "metered_ls_dict = files.upload()\n",
    "if len(metered_ls_dict)==0:\n",
    "    metered_load_shape_df = None\n",
    "elif len(metered_ls_dict) == 1:\n",
    "    metered_load_shape = list(metered_ls_dict.values())[0]\n",
    "    metered_load_shape_df = pd.read_csv(BytesIO(metered_load_shape)).set_index('hour_of_year')\n",
    "else:\n",
    "    print(\"Must select at most one file\")"
   ]
  },
  {
   "cell_type": "code",
   "execution_count": null,
   "id": "8c3c7208",
   "metadata": {},
   "outputs": [],
   "source": [
    "from flexvalue import FlexValueRun\n",
    "\n",
    "year = '2020'\n",
    "flx_run = FlexValueRun(database_year=year, metered_load_shape=metered_load_shape_df)\n",
    "\n",
    "outputs_table, outputs_table_totals, electric_benefits, gas_benefits = flx_run.get_results(user_inputs=user_inputs)\n",
    "outputs_table"
   ]
  },
  {
   "cell_type": "code",
   "execution_count": null,
   "id": "b1702d02",
   "metadata": {},
   "outputs": [],
   "source": [
    "outputs_table_totals"
   ]
  },
  {
   "cell_type": "code",
   "execution_count": null,
   "id": "d48aac44",
   "metadata": {},
   "outputs": [],
   "source": [
    "# Run this cell if you want to download the FLEXvalue output.\n",
    "from pathlib import Path\n",
    "user_input_filename_no_ext = Path(user_input_filename).stem\n",
    "outputs_filename = f'{user_input_filename_no_ext}_outputs.csv'\n",
    "outputs_table.to_csv(outputs_filename)\n",
    "files.download(outputs_filename)"
   ]
  },
  {
   "cell_type": "code",
   "execution_count": null,
   "id": "6b92dd49",
   "metadata": {},
   "outputs": [],
   "source": [
    "from flexvalue.plots import plot_results\n",
    "plot_results(outputs_table_totals, electric_benefits, gas_benefits)"
   ]
  }
 ],
 "metadata": {
  "kernelspec": {
   "display_name": "Python 3",
   "language": "python",
   "name": "python3"
  },
  "language_info": {
   "codemirror_mode": {
    "name": "ipython",
    "version": 3
   },
   "file_extension": ".py",
   "mimetype": "text/x-python",
   "name": "python",
   "nbconvert_exporter": "python",
   "pygments_lexer": "ipython3",
   "version": "3.7.4"
  }
 },
 "nbformat": 4,
 "nbformat_minor": 5
}
